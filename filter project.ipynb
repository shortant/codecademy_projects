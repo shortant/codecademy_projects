{
 "cells": [
  {
   "cell_type": "code",
   "execution_count": 1,
   "id": "61a62d65",
   "metadata": {},
   "outputs": [],
   "source": [
    "import pandas as pd\n",
    "import numpy as np"
   ]
  },
  {
   "cell_type": "code",
   "execution_count": 40,
   "id": "fcc32c48",
   "metadata": {},
   "outputs": [],
   "source": [
    "pd.set_option('display.max_colwidth', None)\n",
    "jeopardy = pd.read_csv('jeopardy.csv')\n",
    "jeopardy = jeopardy.rename(columns = {\" Air Date\": \"Air Date\", \" Round\" : \"Round\", \" Category\": \"Category\", \" Value\": \"Value\", \" Question\":\"Question\", \" Answer\": \"Answer\"})"
   ]
  },
  {
   "cell_type": "code",
   "execution_count": 41,
   "id": "45f820dc",
   "metadata": {},
   "outputs": [],
   "source": [
    "#print(jeopardy.head())"
   ]
  },
  {
   "cell_type": "code",
   "execution_count": 42,
   "id": "98ad502a",
   "metadata": {},
   "outputs": [],
   "source": [
    "def data_filter(data, words):\n",
    "    filter = lambda x: all(word in x for word in words)\n",
    "    return data.loc[data[\"Question\"].apply(filter)]"
   ]
  },
  {
   "cell_type": "code",
   "execution_count": 59,
   "id": "9ae0157f",
   "metadata": {},
   "outputs": [],
   "source": [
    "filtered = data_filter(jeopardy,[\"King\", \"England\"])\n",
    "#print(filtered[\"Question\"])"
   ]
  },
  {
   "cell_type": "code",
   "execution_count": 60,
   "id": "1e81e638",
   "metadata": {},
   "outputs": [],
   "source": [
    "jeopardy['float'] = jeopardy.Value.apply(lambda x: float(x[1:].replace(',', '') if x != 'None' else 0))"
   ]
  },
  {
   "cell_type": "code",
   "execution_count": 61,
   "id": "2664c99b",
   "metadata": {},
   "outputs": [],
   "source": [
    "filter_count = filter_data(jeopardy,[\"King\"])"
   ]
  },
  {
   "cell_type": "code",
   "execution_count": 62,
   "id": "a25c0a9f",
   "metadata": {},
   "outputs": [
    {
     "name": "stdout",
     "output_type": "stream",
     "text": [
      "773.4413965087282\n"
     ]
    }
   ],
   "source": [
    "print(filter_count['float'].mean())"
   ]
  },
  {
   "cell_type": "code",
   "execution_count": 63,
   "id": "7cc8627d",
   "metadata": {},
   "outputs": [],
   "source": [
    "def answer_counter(df):\n",
    "    return df.Answer.value_counts()\n"
   ]
  },
  {
   "cell_type": "code",
   "execution_count": 64,
   "id": "4b67453c",
   "metadata": {},
   "outputs": [
    {
     "name": "stdout",
     "output_type": "stream",
     "text": [
      "41\n"
     ]
    }
   ],
   "source": [
    "print(len(answer_counter(filtered)))"
   ]
  },
  {
   "cell_type": "code",
   "execution_count": null,
   "id": "525cd7c6",
   "metadata": {},
   "outputs": [],
   "source": []
  }
 ],
 "metadata": {
  "kernelspec": {
   "display_name": "Python 3 (ipykernel)",
   "language": "python",
   "name": "python3"
  },
  "language_info": {
   "codemirror_mode": {
    "name": "ipython",
    "version": 3
   },
   "file_extension": ".py",
   "mimetype": "text/x-python",
   "name": "python",
   "nbconvert_exporter": "python",
   "pygments_lexer": "ipython3",
   "version": "3.9.12"
  }
 },
 "nbformat": 4,
 "nbformat_minor": 5
}
