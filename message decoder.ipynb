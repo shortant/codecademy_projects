{
 "cells": [
  {
   "cell_type": "code",
   "execution_count": 1,
   "id": "e9ec8d4c-76d7-4370-bfad-1dbac3b7d1ee",
   "metadata": {},
   "outputs": [],
   "source": [
    "alphabet = \"abcdefghijklmnopqrstuvwxyz\""
   ]
  },
  {
   "cell_type": "code",
   "execution_count": 2,
   "id": "b6827725-e1c3-4de8-b654-f9ef6ec06bbd",
   "metadata": {},
   "outputs": [],
   "source": [
    "punctuation = \",.?!\""
   ]
  },
  {
   "cell_type": "code",
   "execution_count": 3,
   "id": "bbf03765-b71e-4269-b520-fb24477f7dbe",
   "metadata": {},
   "outputs": [],
   "source": [
    "message = \"xuo jxuhu! jxyi yi qd unqcfbu ev q squiqh syfxuh. muhu oek qrbu je tusetu yj? y xefu ie! iudt cu q cuiiqwu rqsa myjx jxu iqcu evviuj!\""
   ]
  },
  {
   "cell_type": "code",
   "execution_count": 4,
   "id": "523de0ad-5247-4c08-acf1-18f142979f8d",
   "metadata": {},
   "outputs": [],
   "source": [
    "decoded_message = \"\""
   ]
  },
  {
   "cell_type": "code",
   "execution_count": 5,
   "id": "05cdf430-f0c5-4c14-ae0c-65c0f4bf323a",
   "metadata": {},
   "outputs": [],
   "source": [
    "for letter in message:\n",
    "    if not letter in punctuation:\n",
    "        letter_value = alphabet.find(letter)\n",
    "        decoded_message += alphabet[(letter_value + 10) % 26]\n",
    "    else: \n",
    "        decoded_message += letter                            \n",
    "    "
   ]
  },
  {
   "cell_type": "code",
   "execution_count": 6,
   "id": "fb71e1e7-1178-4929-98a3-af1914b45009",
   "metadata": {},
   "outputs": [
    {
     "name": "stdout",
     "output_type": "stream",
     "text": [
      "heyjthere!jthisjisjanjexamplejofjajcaesarjcipher.jwerejyoujablejtojdecodejit?jijhopejso!jsendjmejajmessagejbackjwithjthejsamejoffset!\n"
     ]
    }
   ],
   "source": [
    "print(decoded_message)"
   ]
  },
  {
   "cell_type": "code",
   "execution_count": null,
   "id": "fa41636d-11d1-4293-b7b5-32ede0c7240a",
   "metadata": {},
   "outputs": [],
   "source": []
  },
  {
   "cell_type": "code",
   "execution_count": null,
   "id": "d78454a5-d5af-4868-b2b2-590f34cde938",
   "metadata": {},
   "outputs": [],
   "source": []
  }
 ],
 "metadata": {
  "kernelspec": {
   "display_name": "Python 3 (ipykernel)",
   "language": "python",
   "name": "python3"
  },
  "language_info": {
   "codemirror_mode": {
    "name": "ipython",
    "version": 3
   },
   "file_extension": ".py",
   "mimetype": "text/x-python",
   "name": "python",
   "nbconvert_exporter": "python",
   "pygments_lexer": "ipython3",
   "version": "3.9.12"
  }
 },
 "nbformat": 4,
 "nbformat_minor": 5
}
